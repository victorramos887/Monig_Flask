{
 "cells": [
  {
   "cell_type": "markdown",
   "metadata": {},
   "source": [
    "Teste de conexão dos bancos"
   ]
  },
  {
   "cell_type": "code",
   "execution_count": 11,
   "metadata": {},
   "outputs": [],
   "source": [
    "banco_IMPORTACAO = (339366.8125,7388717.5)\n",
    "banco_MIGRATE = (339366.808131614, 7388717.67186839)\n",
    "import shapely.geometry as geom\n",
    "from pyproj import Proj, transform\n"
   ]
  },
  {
   "cell_type": "code",
   "execution_count": 14,
   "metadata": {},
   "outputs": [
    {
     "ename": "CRSError",
     "evalue": "Invalid projection: +proj=utm +zone=23 +south +ellps=GRS80 +datum=SIRGAS2000 +type=crs: (Internal Proj Error: proj_create: Error 1027 (Invalid value for an argument): Unknown value for datum)",
     "output_type": "error",
     "traceback": [
      "\u001b[1;31m---------------------------------------------------------------------------\u001b[0m",
      "\u001b[1;31mCRSError\u001b[0m                                  Traceback (most recent call last)",
      "Cell \u001b[1;32mIn[14], line 2\u001b[0m\n\u001b[0;32m      1\u001b[0m \u001b[38;5;66;03m# SAD69 UTM 23S (using SIRGAS2000 datum)\u001b[39;00m\n\u001b[1;32m----> 2\u001b[0m sad69_utm23s \u001b[38;5;241m=\u001b[39m \u001b[43mProj\u001b[49m\u001b[43m(\u001b[49m\u001b[38;5;124;43m\"\u001b[39;49m\u001b[38;5;124;43m+proj=utm +zone=23 +south +ellps=GRS80 +datum=SIRGAS2000\u001b[39;49m\u001b[38;5;124;43m\"\u001b[39;49m\u001b[43m)\u001b[49m\n\u001b[0;32m      4\u001b[0m \u001b[38;5;66;03m# SIRGAS 2000 UTM 23S\u001b[39;00m\n\u001b[0;32m      5\u001b[0m sirgas2000_utm23s \u001b[38;5;241m=\u001b[39m Proj(\u001b[38;5;124m\"\u001b[39m\u001b[38;5;124m+proj=utm +zone=23 +south +ellps=GRS80 +datum=SIRGAS2000\u001b[39m\u001b[38;5;124m\"\u001b[39m)\n",
      "File \u001b[1;32mc:\\Users\\VICTOR\\Documents\\Github\\Monig_Flask\\venv\\lib\\site-packages\\pyproj\\proj.py:109\u001b[0m, in \u001b[0;36mProj.__init__\u001b[1;34m(self, projparams, preserve_units, **kwargs)\u001b[0m\n\u001b[0;32m     47\u001b[0m \u001b[38;5;28;01mdef\u001b[39;00m \u001b[38;5;21m__init__\u001b[39m(\n\u001b[0;32m     48\u001b[0m     \u001b[38;5;28mself\u001b[39m, projparams: Optional[Any] \u001b[38;5;241m=\u001b[39m \u001b[38;5;28;01mNone\u001b[39;00m, preserve_units: \u001b[38;5;28mbool\u001b[39m \u001b[38;5;241m=\u001b[39m \u001b[38;5;28;01mTrue\u001b[39;00m, \u001b[38;5;241m*\u001b[39m\u001b[38;5;241m*\u001b[39mkwargs\n\u001b[0;32m     49\u001b[0m ) \u001b[38;5;241m-\u001b[39m\u001b[38;5;241m>\u001b[39m \u001b[38;5;28;01mNone\u001b[39;00m:\n\u001b[0;32m     50\u001b[0m \u001b[38;5;250m    \u001b[39m\u001b[38;5;124;03m\"\"\"\u001b[39;00m\n\u001b[0;32m     51\u001b[0m \u001b[38;5;124;03m    A Proj class instance is initialized with proj map projection\u001b[39;00m\n\u001b[0;32m     52\u001b[0m \u001b[38;5;124;03m    control parameter key/value pairs. The key/value pairs can\u001b[39;00m\n\u001b[1;32m   (...)\u001b[0m\n\u001b[0;32m    107\u001b[0m \u001b[38;5;124;03m    '116.366 39.867'\u001b[39;00m\n\u001b[0;32m    108\u001b[0m \u001b[38;5;124;03m    \"\"\"\u001b[39;00m\n\u001b[1;32m--> 109\u001b[0m     \u001b[38;5;28mself\u001b[39m\u001b[38;5;241m.\u001b[39mcrs \u001b[38;5;241m=\u001b[39m CRS\u001b[38;5;241m.\u001b[39mfrom_user_input(projparams, \u001b[38;5;241m*\u001b[39m\u001b[38;5;241m*\u001b[39mkwargs)\n\u001b[0;32m    110\u001b[0m     \u001b[38;5;66;03m# make sure units are meters if preserve_units is False.\u001b[39;00m\n\u001b[0;32m    111\u001b[0m     \u001b[38;5;28;01mif\u001b[39;00m \u001b[38;5;129;01mnot\u001b[39;00m preserve_units \u001b[38;5;129;01mand\u001b[39;00m \u001b[38;5;124m\"\u001b[39m\u001b[38;5;124mfoot\u001b[39m\u001b[38;5;124m\"\u001b[39m \u001b[38;5;129;01min\u001b[39;00m \u001b[38;5;28mself\u001b[39m\u001b[38;5;241m.\u001b[39mcrs\u001b[38;5;241m.\u001b[39maxis_info[\u001b[38;5;241m0\u001b[39m]\u001b[38;5;241m.\u001b[39munit_name:\n\u001b[0;32m    112\u001b[0m         \u001b[38;5;66;03m# ignore export to PROJ string deprecation warning\u001b[39;00m\n",
      "File \u001b[1;32mc:\\Users\\VICTOR\\Documents\\Github\\Monig_Flask\\venv\\lib\\site-packages\\pyproj\\crs\\crs.py:501\u001b[0m, in \u001b[0;36mCRS.from_user_input\u001b[1;34m(cls, value, **kwargs)\u001b[0m\n\u001b[0;32m    499\u001b[0m \u001b[38;5;28;01mif\u001b[39;00m \u001b[38;5;28misinstance\u001b[39m(value, \u001b[38;5;28mcls\u001b[39m):\n\u001b[0;32m    500\u001b[0m     \u001b[38;5;28;01mreturn\u001b[39;00m value\n\u001b[1;32m--> 501\u001b[0m \u001b[38;5;28;01mreturn\u001b[39;00m \u001b[38;5;28mcls\u001b[39m(value, \u001b[38;5;241m*\u001b[39m\u001b[38;5;241m*\u001b[39mkwargs)\n",
      "File \u001b[1;32mc:\\Users\\VICTOR\\Documents\\Github\\Monig_Flask\\venv\\lib\\site-packages\\pyproj\\crs\\crs.py:348\u001b[0m, in \u001b[0;36mCRS.__init__\u001b[1;34m(self, projparams, **kwargs)\u001b[0m\n\u001b[0;32m    346\u001b[0m     \u001b[38;5;28mself\u001b[39m\u001b[38;5;241m.\u001b[39m_local\u001b[38;5;241m.\u001b[39mcrs \u001b[38;5;241m=\u001b[39m projparams\n\u001b[0;32m    347\u001b[0m \u001b[38;5;28;01melse\u001b[39;00m:\n\u001b[1;32m--> 348\u001b[0m     \u001b[38;5;28mself\u001b[39m\u001b[38;5;241m.\u001b[39m_local\u001b[38;5;241m.\u001b[39mcrs \u001b[38;5;241m=\u001b[39m \u001b[43m_CRS\u001b[49m\u001b[43m(\u001b[49m\u001b[38;5;28;43mself\u001b[39;49m\u001b[38;5;241;43m.\u001b[39;49m\u001b[43msrs\u001b[49m\u001b[43m)\u001b[49m\n",
      "File \u001b[1;32mc:\\Users\\VICTOR\\Documents\\Github\\Monig_Flask\\venv\\lib\\site-packages\\pyproj\\_crs.pyx:2378\u001b[0m, in \u001b[0;36mpyproj._crs._CRS.__init__\u001b[1;34m()\u001b[0m\n",
      "\u001b[1;31mCRSError\u001b[0m: Invalid projection: +proj=utm +zone=23 +south +ellps=GRS80 +datum=SIRGAS2000 +type=crs: (Internal Proj Error: proj_create: Error 1027 (Invalid value for an argument): Unknown value for datum)"
     ]
    }
   ],
   "source": [
    "# SAD69 UTM 23S (using SIRGAS2000 datum)\n",
    "sad69_utm23s = Proj(\"+proj=utm +zone=23 +south +ellps=GRS80 +datum=SIRGAS2000\")\n",
    "\n",
    "# SIRGAS 2000 UTM 23S\n",
    "sirgas2000_utm23s = Proj(\"+proj=utm +zone=23 +south +ellps=GRS80 +datum=SIRGAS2000\")\n",
    "\n",
    "def reproject_sad69_to_sirgas2000(geom_sad69):\n",
    "    \"\"\"\n",
    "    Converts Shapely geometry from SAD69 to SIRGAS 2000.\n",
    "\n",
    "    Args:\n",
    "        geom_sad69 (shapely.geometry): Geometry in SAD69.\n",
    "\n",
    "    Returns:\n",
    "        shapely.geometry: Geometry reprojected in SIRGAS 2000.\n",
    "    \"\"\"\n",
    "    x, y = geom_sad69.centroid.coords[0]\n",
    "    x_sirgas, y_sirgas = transform(sad69_utm23s, sirgas2000_utm23s, x, y)\n",
    "    return geom.Point(x_sirgas, y_sirgas)\n",
    "\n",
    "# Example of use\n",
    "geom_sad69 = geom.Point(339366.808131614, 7388717.67186839)\n",
    "geom_sirgas2000 = reproject_sad69_to_sirgas2000(geom_sad69)\n",
    "print(f\"Coordenada SAD69: {geom_sad69}\")\n",
    "print(f\"Coordenada SIRGAS 2000: {geom_sirgas2000}\")"
   ]
  }
 ],
 "metadata": {
  "kernelspec": {
   "display_name": "venv",
   "language": "python",
   "name": "python3"
  },
  "language_info": {
   "codemirror_mode": {
    "name": "ipython",
    "version": 3
   },
   "file_extension": ".py",
   "mimetype": "text/x-python",
   "name": "python",
   "nbconvert_exporter": "python",
   "pygments_lexer": "ipython3",
   "version": "3.10.6"
  }
 },
 "nbformat": 4,
 "nbformat_minor": 2
}
