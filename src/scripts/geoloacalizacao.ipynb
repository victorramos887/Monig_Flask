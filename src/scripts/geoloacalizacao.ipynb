{
 "cells": [
  {
   "cell_type": "code",
   "execution_count": 1,
   "metadata": {},
   "outputs": [
    {
     "name": "stdout",
     "output_type": "stream",
     "text": [
      "Rua Nestor de Camargo., Jardim Barueri - Barueri\n",
      "(-23.4986313, -46.8746832)\n"
     ]
    }
   ],
   "source": [
    "from geopy.geocoders import Nominatim\n",
    "import brazilcep\n",
    "\n",
    "# R. Capote Valente, Pinheiros - São Paulo\n",
    "endereco = brazilcep.get_address_from_cep('06411360')\n",
    "\n",
    "geolocator = Nominatim(user_agent=\"geolocalização\") # coloque o nome do seu projeto em \"user_agent\"\n",
    "print(f\"{endereco['street']}., {endereco['district']} - {endereco['city']}\")\n",
    "\n",
    "# Formato: R.  Capote Valente\n",
    "rua = f\"{endereco['street'][0]}. {endereco['street'][3:]}\"\n",
    "# Pinheiros\n",
    "bairro = endereco['district']\n",
    "# São Paulo\n",
    "cidade = endereco['city']\n",
    "\n",
    "localizacao = geolocator.geocode(f\"{rua}, {bairro}-{cidade}\")\n",
    "\n",
    "print((localizacao.latitude, localizacao.longitude))"
   ]
  }
 ],
 "metadata": {
  "kernelspec": {
   "display_name": "venv",
   "language": "python",
   "name": "python3"
  },
  "language_info": {
   "codemirror_mode": {
    "name": "ipython",
    "version": 3
   },
   "file_extension": ".py",
   "mimetype": "text/x-python",
   "name": "python",
   "nbconvert_exporter": "python",
   "pygments_lexer": "ipython3",
   "version": "3.10.12"
  }
 },
 "nbformat": 4,
 "nbformat_minor": 2
}
