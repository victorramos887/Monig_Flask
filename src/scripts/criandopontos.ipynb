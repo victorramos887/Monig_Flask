{
 "cells": [
  {
   "cell_type": "code",
   "execution_count": null,
   "metadata": {},
   "outputs": [],
   "source": []
  },
  {
   "cell_type": "code",
   "execution_count": 16,
   "metadata": {},
   "outputs": [
    {
     "name": "stdout",
     "output_type": "stream",
     "text": [
      "[{'lat': 353788.83461539325, 'long': 7411042.878001938}, {'lat': 350746.1567102931, 'long': 7407447.784595744}, {'lat': 356855.4004724245, 'long': 7404818.339747115}, {'lat': 352173.0204249676, 'long': 7407945.538243993}, {'lat': 353869.2668356808, 'long': 7404547.413181472}, {'lat': 355953.41519236256, 'long': 7402711.498190882}, {'lat': 349561.5374910734, 'long': 7407907.937577899}, {'lat': 353929.27621979424, 'long': 7403993.065198352}, {'lat': 354128.81340856897, 'long': 7402566.602060291}, {'lat': 354253.2591513509, 'long': 7405164.189002377}, {'lat': 353459.8438969327, 'long': 7410357.6425581165}, {'lat': 345721.68377383205, 'long': 7408401.909874522}, {'lat': 351276.8797761897, 'long': 7407867.286253006}, {'lat': 356849.22644730995, 'long': 7410259.728692575}, {'lat': 350088.5067571601, 'long': 7411840.19590544}, {'lat': 352197.9438820439, 'long': 7409551.218533254}, {'lat': 345316.6521496387, 'long': 7404826.181768794}, {'lat': 352532.18547337654, 'long': 7408800.212793274}, {'lat': 353858.3875049198, 'long': 7410906.4276008485}, {'lat': 354974.63840675127, 'long': 7405050.735882413}, {'lat': 353596.09894180484, 'long': 7410312.240268782}, {'lat': 344080.6760342587, 'long': 7404372.483488882}, {'lat': 350071.8252286998, 'long': 7410137.165490196}, {'lat': 348422.6270690358, 'long': 7406865.44191302}, {'lat': 346496.045728088, 'long': 7403434.192713983}]\n"
     ]
    }
   ],
   "source": [
    "from shapely.geometry import Point, Polygon\n",
    "import pyproj\n",
    "import random\n",
    "\n",
    "# Definir coordenadas máximas e mínimas\n",
    "minimo = (356866.4464560092892498, 7412084.7107389261946082)\n",
    "maximo = (343996.5579544893116690, 7402027.7020595949143171)\n",
    "\n",
    "# Criar um objeto Polygon com base nas coordenadas\n",
    "poligono = Polygon([minimo, (minimo[0], maximo[1]), maximo, (maximo[0], minimo[1])])\n",
    "\n",
    "# Definir o sistema de coordenadas de origem\n",
    "origem_proj = pyproj.CRS.from_epsg(31983)\n",
    "\n",
    "# Definir o sistema de coordenadas de destino (SIRGAS 2000 23 S)\n",
    "destino_proj = pyproj.CRS.from_epsg(4674)\n",
    "\n",
    "# Criar um transformador de coordenadas\n",
    "transformador = pyproj.Transformer.from_crs(origem_proj, destino_proj, always_xy=True)\n",
    "\n",
    "# Número de pontos desejados\n",
    "num_pontos = 25\n",
    "\n",
    "# Gerar 25 pontos aleatórios dentro do polígono\n",
    "pontos_associados = {\n",
    "    \"9\": [], \"16\": [], \"17\": [], \"18\": [], \"19\": [], \"22\": [], \"24\": [], \"25\": [], \"26\": [], \"27\": [],\n",
    "    \"30\": [], \"41\": [], \"43\": [], \"45\": [], \"46\": [], \"48\": [], \"49\": [], \"50\": [], \"51\": [], \"52\": [],\n",
    "    \"53\": [], \"54\": [], \"55\": [], \"56\": [], \"57\": []\n",
    "}\n",
    "\n",
    "# pontos_associados = {\n",
    "#     \"9\": []\n",
    "# }\n",
    "\n",
    "for _id in pontos_associados:\n",
    "\n",
    "    # Gere pontos aleatórios até encontrar um dentro do polígono\n",
    "    ponto_aleatorio = None\n",
    "    #while ponto_aleatorio is None or not poligono.contains(Point(ponto_aleatorio)):\n",
    "    ponto_aleatorio = (\n",
    "        random.uniform(minimo[0], maximo[0]),\n",
    "        random.uniform(minimo[1], maximo[1])\n",
    "    )\n",
    "\n",
    "    # Transformar ponto para SIRGAS 2000 23 S\n",
    "    # ponto_transformado = transformador.transform(ponto_aleatorio[0], ponto_aleatorio[1])\n",
    "    # ponto_aleatorio = (ponto_transformado[0], ponto_transformado[1])\n",
    "\n",
    "    pontos_associados[_id].append({\n",
    "        \"id\": _id,\n",
    "        \"geometria\": {\"x\": ponto_aleatorio[0], \"y\": ponto_aleatorio[1]}\n",
    "        #\"geometria\":ponto_aleatorio\n",
    "    })\n",
    "\n",
    "\n",
    "\n",
    "lista = []\n",
    "# Exibir os pontos gerados\n",
    "for _id, pontos in pontos_associados.items():\n",
    "    dicionario = {}\n",
    "    for ponto in pontos:\n",
    "        #print(f\"UPDATE main.escolas SET geom = ST_POINT({ponto['geometria']['x']}, {ponto['geometria']['y']}) WHERE id = {_id};\")\n",
    "        \n",
    "        dicionario['lat'] = ponto['geometria']['x']\n",
    "        dicionario['long'] = ponto['geometria']['y']\n",
    "        lista.append(dicionario)\n",
    "        \n",
    "print(lista)\n"
   ]
  }
 ],
 "metadata": {
  "kernelspec": {
   "display_name": "venv",
   "language": "python",
   "name": "python3"
  },
  "language_info": {
   "codemirror_mode": {
    "name": "ipython",
    "version": 3
   },
   "file_extension": ".py",
   "mimetype": "text/x-python",
   "name": "python",
   "nbconvert_exporter": "python",
   "pygments_lexer": "ipython3",
   "version": "3.10.6"
  }
 },
 "nbformat": 4,
 "nbformat_minor": 2
}
