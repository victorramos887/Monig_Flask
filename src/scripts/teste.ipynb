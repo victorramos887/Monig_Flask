{
 "cells": [
  {
   "cell_type": "code",
   "execution_count": 1,
   "metadata": {},
   "outputs": [],
   "source": [
    "import pandas as pd"
   ]
  },
  {
   "cell_type": "code",
   "execution_count": null,
   "metadata": {},
   "outputs": [],
   "source": [
    "csv = pd.read_csv(\"D:\\Documentos/arquivos/csvescolas.csv\", nrows=10, header=0, sep=\";\", encoding=\"latin-1\")\n",
    "csv"
   ]
  },
  {
   "cell_type": "code",
   "execution_count": 12,
   "metadata": {},
   "outputs": [
    {
     "name": "stdout",
     "output_type": "stream",
     "text": [
      "raulcortez\n",
      "nisedasilveira\n",
      "álvaresdeazevedo\n",
      "umdinacapellarinunes\n",
      "otawa-virapuru\n",
      "taboãoepgoféliaecheverrilopes\n",
      "pedrinhjoenarizinho\n",
      "cassianoricardo\n",
      "amadeupereiralima\n",
      "carlosfranchin(ceucumbica)\n"
     ]
    }
   ],
   "source": [
    "for index, row in csv.iterrows():\n",
    "   \n",
    "    nome = \"\".join(row[\"Unidade Escolar\"].split(\" \")[1:]).lower()\n",
    "    print(nome)"
   ]
  },
  {
   "cell_type": "code",
   "execution_count": 3,
   "metadata": {},
   "outputs": [
    {
     "data": {
      "text/plain": [
       "'00001'"
      ]
     },
     "execution_count": 3,
     "metadata": {},
     "output_type": "execute_result"
    }
   ],
   "source": [
    "id = 1\n",
    "str(id).zfill(5)"
   ]
  },
  {
   "cell_type": "code",
   "execution_count": 3,
   "metadata": {},
   "outputs": [
    {
     "name": "stdout",
     "output_type": "stream",
     "text": [
      "rB3450**\n"
     ]
    }
   ],
   "source": [
    "import random\n",
    "caracteres = [\n",
    "    random.choice(\"abcdefghijklmnopqrstuvwxyz\"),\n",
    "    random.choice(\"ABCDEFGHIJKLMNOPQRSTUVWXYZ\"),\n",
    "    random.choice(\"0123456789\"),\n",
    "    random.choice(\"0123456789\"),\n",
    "    random.choice(\"0123456789\"),\n",
    "    random.choice(\"0123456789\"),\n",
    "    random.choice(\"@!#$%*\"),\n",
    "    random.choice(\"@!#$%*\")\n",
    "]\n",
    "\n",
    "# Concatena os caracteres em uma string\n",
    "senha = \"\".join(caracteres)\n",
    "\n",
    "# Imprime a senha\n",
    "print(senha)"
   ]
  },
  {
   "cell_type": "code",
   "execution_count": 10,
   "metadata": {},
   "outputs": [
    {
     "data": {
      "text/plain": [
       "'023'"
      ]
     },
     "execution_count": 10,
     "metadata": {},
     "output_type": "execute_result"
    }
   ],
   "source": [
    "numero = 23456\n",
    "\n",
    "strinnumero = str(numero).zfill(6)\n",
    "\n",
    "strinnumero[:3]"
   ]
  }
 ],
 "metadata": {
  "kernelspec": {
   "display_name": "venv",
   "language": "python",
   "name": "python3"
  },
  "language_info": {
   "codemirror_mode": {
    "name": "ipython",
    "version": 3
   },
   "file_extension": ".py",
   "mimetype": "text/x-python",
   "name": "python",
   "nbconvert_exporter": "python",
   "pygments_lexer": "ipython3",
   "version": "3.10.6"
  }
 },
 "nbformat": 4,
 "nbformat_minor": 2
}
