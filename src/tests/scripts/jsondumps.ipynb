{
 "cells": [
  {
   "cell_type": "code",
   "execution_count": 10,
   "metadata": {},
   "outputs": [
    {
     "name": "stdout",
     "output_type": "stream",
     "text": [
      "{\"fk_cliente\": 1, \"nome_do_tipo_evento\": \"Festa Junina\", \"periodicidade\": 4, \"dataSazonal\": \"2023-02-02 00:00:00\", \"requerResposta\": true, \"tolerancia\": 3, \"unidade\": \"M\\u00eas\", \"qual_tipo_evento\": null, \"ehResposta\": null}\n"
     ]
    }
   ],
   "source": [
    "import json\n",
    "import dateutil.parser\n",
    "import datetime\n",
    "from random import randint\n",
    "from faker import Faker\n",
    "\n",
    "\n",
    "data = datetime.datetime(2023, 8, 24, 10, 0, 0)\n",
    "valor = {\n",
    "    \"fk_cliente\": 1,\n",
    "    \"nome_do_tipo_evento\": \"Festa Junina\",\n",
    "    \"periodicidade\": 4,\n",
    "    \"dataSazonal\": datetime.datetime.strptime(\"2023-02-02 00:00:00\", \"%Y-%m-%d %H:%M:%S\"), #datetime.strptime(\"2023-02-02 00:00:00\", \"%Y-%m-%d %H:%M:%S\").date(),\n",
    "    \"requerResposta\": True,\n",
    "    \"tolerancia\": 3,\n",
    "    \"unidade\": \"Mês\",\n",
    "    \"qual_tipo_evento\": None,\n",
    "    \"ehResposta\": None\n",
    "}\n",
    "json_data = json.dumps(valor, default=str)\n",
    "\n",
    "print(json_data)"
   ]
  },
  {
   "cell_type": "code",
   "execution_count": 6,
   "metadata": {},
   "outputs": [
    {
     "name": "stdout",
     "output_type": "stream",
     "text": [
      "b'{\"message\": \"xin ch\\\\u00e0o vi\\\\u1ec7t nam\"}'\n"
     ]
    }
   ],
   "source": [
    "import json\n",
    "#print(json.dumps({\"message\":\"xin chào việt nam\"}, ensure_ascii=False))\n",
    "json_str = json.dumps({\"message\":\"xin chào việt nam\"}).encode('utf8')\n",
    "\n",
    "print(json_str)"
   ]
  }
 ],
 "metadata": {
  "kernelspec": {
   "display_name": "venv",
   "language": "python",
   "name": "python3"
  },
  "language_info": {
   "codemirror_mode": {
    "name": "ipython",
    "version": 3
   },
   "file_extension": ".py",
   "mimetype": "text/x-python",
   "name": "python",
   "nbconvert_exporter": "python",
   "pygments_lexer": "ipython3",
   "version": "3.10.6"
  },
  "orig_nbformat": 4
 },
 "nbformat": 4,
 "nbformat_minor": 2
}
